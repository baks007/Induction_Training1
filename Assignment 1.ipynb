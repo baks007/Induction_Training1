{
 "cells": [
  {
   "cell_type": "code",
   "execution_count": 18,
   "id": "24451def",
   "metadata": {},
   "outputs": [],
   "source": [
    "fruits= ['apple','banana', 'mango','orange','pineapple','straberry','apricot','avacado','jackfruit','pomo']"
   ]
  },
  {
   "cell_type": "code",
   "execution_count": 19,
   "id": "20787b52",
   "metadata": {},
   "outputs": [
    {
     "name": "stdout",
     "output_type": "stream",
     "text": [
      "['banana', 'orange', 'straberry', 'avacado', 'pomo']\n"
     ]
    }
   ],
   "source": [
    "fruits= ['apple','banana', 'mango','orange','pineapple','straberry','apricot','avacado','jackfruit','pomo']\n",
    "x = slice(1, 10, 2)\n",
    "print(fruits[x])"
   ]
  },
  {
   "cell_type": "code",
   "execution_count": 6,
   "id": "70fdd99a",
   "metadata": {},
   "outputs": [
    {
     "name": "stdout",
     "output_type": "stream",
     "text": [
      "('apple', 'banana', 'mango', 'orange', 'pineapple')\n"
     ]
    }
   ],
   "source": [
    "tuplefruits= ('apple','banana', 'mango','orange','pineapple','straberry','apricot','avacado','jackfruit','pomo')\n",
    "print (tuplefruits[0:5]);"
   ]
  },
  {
   "cell_type": "code",
   "execution_count": 11,
   "id": "94d1fe14",
   "metadata": {},
   "outputs": [],
   "source": [
    "setfruits= {'apple','banana', 'mango','orange','pineapple','straberry','apricot','avacado','jackfruit','pomo'}"
   ]
  },
  {
   "cell_type": "code",
   "execution_count": 12,
   "id": "8b8bdf73",
   "metadata": {},
   "outputs": [
    {
     "data": {
      "text/plain": [
       "{'apple',\n",
       " 'apricot',\n",
       " 'avacado',\n",
       " 'banana',\n",
       " 'jackfruit',\n",
       " 'mango',\n",
       " 'orange',\n",
       " 'pineapple',\n",
       " 'pomo',\n",
       " 'straberry'}"
      ]
     },
     "execution_count": 12,
     "metadata": {},
     "output_type": "execute_result"
    }
   ],
   "source": [
    "set(setfruits)"
   ]
  },
  {
   "cell_type": "code",
   "execution_count": 22,
   "id": "04bd7f82",
   "metadata": {},
   "outputs": [],
   "source": [
    "mydc={\"Chennai\": \"044\",\"Bangalore\":\"080\",\"Hyderabad\":\"040\",\"Delhi\":\"011\"}"
   ]
  },
  {
   "cell_type": "code",
   "execution_count": 18,
   "id": "f82f4e95",
   "metadata": {},
   "outputs": [
    {
     "data": {
      "text/plain": [
       "'044'"
      ]
     },
     "execution_count": 18,
     "metadata": {},
     "output_type": "execute_result"
    }
   ],
   "source": [
    "mydc[\"Chennai\"]"
   ]
  },
  {
   "cell_type": "code",
   "execution_count": 23,
   "id": "f627e56c",
   "metadata": {},
   "outputs": [
    {
     "data": {
      "text/plain": [
       "2184056800256"
      ]
     },
     "execution_count": 23,
     "metadata": {},
     "output_type": "execute_result"
    }
   ],
   "source": [
    "id(mydc)"
   ]
  },
  {
   "cell_type": "code",
   "execution_count": 25,
   "id": "e72f5eec",
   "metadata": {},
   "outputs": [],
   "source": [
    "mydc1={\"Noida\": \"01189\"}"
   ]
  },
  {
   "cell_type": "code",
   "execution_count": 26,
   "id": "798e7591",
   "metadata": {},
   "outputs": [],
   "source": [
    "mydc.update(mydc1)"
   ]
  },
  {
   "cell_type": "code",
   "execution_count": 27,
   "id": "30cd67f2",
   "metadata": {},
   "outputs": [
    {
     "name": "stdout",
     "output_type": "stream",
     "text": [
      "{'Chennai': '044', 'Bangalore': '080', 'Hyderabad': '040', 'Delhi': '011', 'Noida': '01189'}\n"
     ]
    }
   ],
   "source": [
    "print(mydc)"
   ]
  },
  {
   "cell_type": "code",
   "execution_count": 28,
   "id": "b054de93",
   "metadata": {},
   "outputs": [],
   "source": [
    "del mydc[\"Noida\"]"
   ]
  },
  {
   "cell_type": "code",
   "execution_count": 29,
   "id": "17ae04e8",
   "metadata": {},
   "outputs": [
    {
     "name": "stdout",
     "output_type": "stream",
     "text": [
      "{'Chennai': '044', 'Bangalore': '080', 'Hyderabad': '040', 'Delhi': '011'}\n"
     ]
    }
   ],
   "source": [
    "print(mydc)"
   ]
  },
  {
   "cell_type": "code",
   "execution_count": 30,
   "id": "b44cb64e",
   "metadata": {},
   "outputs": [
    {
     "data": {
      "text/plain": [
       "2184056800256"
      ]
     },
     "execution_count": 30,
     "metadata": {},
     "output_type": "execute_result"
    }
   ],
   "source": [
    "id(mydc)"
   ]
  },
  {
   "cell_type": "code",
   "execution_count": 46,
   "id": "4d3a1170",
   "metadata": {},
   "outputs": [
    {
     "name": "stdout",
     "output_type": "stream",
     "text": [
      "hi rajesh!!!\n"
     ]
    }
   ],
   "source": [
    "txt = \"Hi RaJeSh!!!\"\n",
    "\n",
    "x = txt.lower()\n",
    "\n",
    "print(x)"
   ]
  },
  {
   "cell_type": "code",
   "execution_count": 45,
   "id": "943e50da",
   "metadata": {},
   "outputs": [
    {
     "name": "stdout",
     "output_type": "stream",
     "text": [
      "HI RAJESH!!!\n"
     ]
    }
   ],
   "source": [
    "txt = \"Hi RaJeSh!!!\"\n",
    "\n",
    "x = txt.upper()\n",
    "\n",
    "print(x)"
   ]
  },
  {
   "cell_type": "code",
   "execution_count": 44,
   "id": "81171781",
   "metadata": {},
   "outputs": [
    {
     "name": "stdout",
     "output_type": "stream",
     "text": [
      "1\n"
     ]
    }
   ],
   "source": [
    "txt = \"Hi RaJeSh!!!\"\n",
    "\n",
    "x = txt.count(\"RaJeSh\")\n",
    "\n",
    "print(x)"
   ]
  },
  {
   "cell_type": "code",
   "execution_count": 43,
   "id": "6b259364",
   "metadata": {},
   "outputs": [
    {
     "name": "stdout",
     "output_type": "stream",
     "text": [
      "0\n"
     ]
    }
   ],
   "source": [
    "txt = \"Hi RaJeSh!!!\"\n",
    "\n",
    "x = txt.find(\"Hi\")\n",
    "\n",
    "print(x)"
   ]
  },
  {
   "cell_type": "code",
   "execution_count": null,
   "id": "e8b42e84",
   "metadata": {},
   "outputs": [],
   "source": []
  }
 ],
 "metadata": {
  "kernelspec": {
   "display_name": "Python 3 (ipykernel)",
   "language": "python",
   "name": "python3"
  },
  "language_info": {
   "codemirror_mode": {
    "name": "ipython",
    "version": 3
   },
   "file_extension": ".py",
   "mimetype": "text/x-python",
   "name": "python",
   "nbconvert_exporter": "python",
   "pygments_lexer": "ipython3",
   "version": "3.9.7"
  }
 },
 "nbformat": 4,
 "nbformat_minor": 5
}
