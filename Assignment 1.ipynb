{
 "cells": [
  {
   "cell_type": "code",
   "execution_count": 18,
   "id": "24451def",
   "metadata": {},
   "outputs": [],
   "source": [
    "fruits= ['apple','banana', 'mango','orange','pineapple','straberry','apricot','avacado','jackfruit','pomo']"
   ]
  },
  {
   "cell_type": "code",
   "execution_count": 19,
   "id": "20787b52",
   "metadata": {},
   "outputs": [
    {
     "name": "stdout",
     "output_type": "stream",
     "text": [
      "['banana', 'orange', 'straberry', 'avacado', 'pomo']\n"
     ]
    }
   ],
   "source": [
    "fruits= ['apple','banana', 'mango','orange','pineapple','straberry','apricot','avacado','jackfruit','pomo']\n",
    "x = slice(1, 10, 2)\n",
    "print(fruits[x])"
   ]
  },
  {
   "cell_type": "code",
   "execution_count": 6,
   "id": "70fdd99a",
   "metadata": {},
   "outputs": [
    {
     "name": "stdout",
     "output_type": "stream",
     "text": [
      "('apple', 'banana', 'mango', 'orange', 'pineapple')\n"
     ]
    }
   ],
   "source": [
    "tuplefruits= ('apple','banana', 'mango','orange','pineapple','straberry','apricot','avacado','jackfruit','pomo')\n",
    "print (tuplefruits[0:5]);"
   ]
  },
  {
   "cell_type": "code",
   "execution_count": 7,
   "id": "94d1fe14",
   "metadata": {},
   "outputs": [
    {
     "data": {
      "text/plain": [
       "{'apple',\n",
       " 'apricot',\n",
       " 'avacado',\n",
       " 'banana',\n",
       " 'jackfruit',\n",
       " 'mango',\n",
       " 'orange',\n",
       " 'pineapple',\n",
       " 'pomo',\n",
       " 'straberry'}"
      ]
     },
     "execution_count": 7,
     "metadata": {},
     "output_type": "execute_result"
    }
   ],
   "source": [
    "set(tuplefruits)"
   ]
  },
  {
   "cell_type": "code",
   "execution_count": 9,
   "id": "6530dd5e",
   "metadata": {},
   "outputs": [
    {
     "ename": "ModuleNotFoundError",
     "evalue": "No module named 'git'",
     "output_type": "error",
     "traceback": [
      "\u001b[1;31m---------------------------------------------------------------------------\u001b[0m",
      "\u001b[1;31mModuleNotFoundError\u001b[0m                       Traceback (most recent call last)",
      "\u001b[1;32mC:\\Users\\BAKTHA~1.A\\AppData\\Local\\Temp/ipykernel_12544/2133793083.py\u001b[0m in \u001b[0;36m<module>\u001b[1;34m\u001b[0m\n\u001b[1;32m----> 1\u001b[1;33m \u001b[1;32mimport\u001b[0m \u001b[0mgit\u001b[0m\u001b[1;33m\u001b[0m\u001b[1;33m\u001b[0m\u001b[0m\n\u001b[0m",
      "\u001b[1;31mModuleNotFoundError\u001b[0m: No module named 'git'"
     ]
    }
   ],
   "source": []
  },
  {
   "cell_type": "code",
   "execution_count": null,
   "id": "3a953685",
   "metadata": {},
   "outputs": [],
   "source": []
  }
 ],
 "metadata": {
  "kernelspec": {
   "display_name": "Python 3 (ipykernel)",
   "language": "python",
   "name": "python3"
  },
  "language_info": {
   "codemirror_mode": {
    "name": "ipython",
    "version": 3
   },
   "file_extension": ".py",
   "mimetype": "text/x-python",
   "name": "python",
   "nbconvert_exporter": "python",
   "pygments_lexer": "ipython3",
   "version": "3.9.7"
  }
 },
 "nbformat": 4,
 "nbformat_minor": 5
}
